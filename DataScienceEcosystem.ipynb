{
 "cells": [
  {
   "cell_type": "markdown",
   "id": "625b8e63-82e3-4d87-bee4-79bb0ddc9c4a",
   "metadata": {},
   "source": [
    "# Data Science Tools and Ecosystem"
   ]
  },
  {
   "cell_type": "markdown",
   "id": "34038432-e5e8-486e-8566-00edba4459f2",
   "metadata": {},
   "source": [
    "In this notebook, Data Science Tools and Ecosystem are summarized."
   ]
  },
  {
   "cell_type": "markdown",
   "id": "7959cd4b-ee9d-44f3-8165-d3335b95abdd",
   "metadata": {},
   "source": [
    "**Objectives:**\r\n",
    "* Create a Jupyter Notebook.\r\n",
    "* Insert code and markdown cells.\r\n",
    "* List popular languages for Data Science.\r\n",
    "* List popular libraries for Data Science."
   ]
  },
  {
   "cell_type": "markdown",
   "id": "2bbaf166-61a2-470b-aeb5-543d80d0875a",
   "metadata": {},
   "source": [
    "## Author: \n",
    "Enrique Monge"
   ]
  },
  {
   "cell_type": "markdown",
   "id": "0a32546b-3b07-45e9-b01b-fcebbdb4a618",
   "metadata": {},
   "source": [
    "Some of the popular languages that Data Scientists use are:\n",
    "1. Python\n",
    "2. R\n",
    "3. Julia\n",
    "4. Scala\n",
    "5. Java\n",
    "6. SQL"
   ]
  },
  {
   "cell_type": "markdown",
   "id": "2614265e-05dc-4124-ad54-5dc3998b7abe",
   "metadata": {},
   "source": [
    "Some of the commonly used libraries used by Data Scientists include:\n",
    "* NumPy.\n",
    "* Keras.\n",
    "* Pandas.\n",
    "* PyTorch.\n",
    "* SciPy.\n",
    "* Scikit-Learn.\n",
    "* TensorFlow.\n",
    "* Matplotlib.\n",
    "lotlib."
   ]
  },
  {
   "cell_type": "markdown",
   "id": "f009d3b2-05fc-4e03-8234-92f6af2db855",
   "metadata": {},
   "source": [
    "| Data Science Tools |\n",
    "| --- |\n",
    "| Apache Spark |\n",
    "| IBM SPSS |\n",
    "| Jupyter Notebook | |"
   ]
  },
  {
   "cell_type": "markdown",
   "id": "b06927e0-8091-45b8-af6a-de2d27f2c2f9",
   "metadata": {},
   "source": [
    "### Below are a few examples of evaluating arithmetic expressions in Python"
   ]
  },
  {
   "cell_type": "code",
   "execution_count": 2,
   "id": "3ac9436d-7510-4dae-8f0b-ec47233967a4",
   "metadata": {},
   "outputs": [
    {
     "data": {
      "text/plain": [
       "17"
      ]
     },
     "execution_count": 2,
     "metadata": {},
     "output_type": "execute_result"
    }
   ],
   "source": [
    "#This a simple arithmetic expression to multiply and then add integers\n",
    "(3*4)+5"
   ]
  },
  {
   "cell_type": "code",
   "execution_count": 3,
   "id": "76ad5482-4ba0-47fb-a6e9-a018a68218e0",
   "metadata": {},
   "outputs": [
    {
     "data": {
      "text/plain": [
       "3.3333333333333335"
      ]
     },
     "execution_count": 3,
     "metadata": {},
     "output_type": "execute_result"
    }
   ],
   "source": [
    "#This will convert 200 minutes to hours by diving by 60\n",
    "(200/60)"
   ]
  },
  {
   "cell_type": "markdown",
   "id": "13f3fd0a-b076-44ee-ac55-37546935932c",
   "metadata": {},
   "source": []
  }
 ],
 "metadata": {
  "kernelspec": {
   "display_name": "Python 3 (ipykernel)",
   "language": "python",
   "name": "python3"
  },
  "language_info": {
   "codemirror_mode": {
    "name": "ipython",
    "version": 3
   },
   "file_extension": ".py",
   "mimetype": "text/x-python",
   "name": "python",
   "nbconvert_exporter": "python",
   "pygments_lexer": "ipython3",
   "version": "3.11.4"
  }
 },
 "nbformat": 4,
 "nbformat_minor": 5
}
